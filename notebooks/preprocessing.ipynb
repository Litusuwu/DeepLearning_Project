{
  "nbformat": 4,
  "nbformat_minor": 0,
  "metadata": {
    "colab": {
      "provenance": []
    },
    "kernelspec": {
      "name": "python3",
      "display_name": "Python 3"
    },
    "language_info": {
      "name": "python"
    }
  },
  "cells": [
    {
      "cell_type": "code",
      "execution_count": 3,
      "metadata": {
        "colab": {
          "base_uri": "https://localhost:8080/"
        },
        "id": "ZQKiABErMEsV",
        "outputId": "2fbdfffc-c4d0-4a58-916a-5783742564f2"
      },
      "outputs": [
        {
          "output_type": "stream",
          "name": "stdout",
          "text": [
            "Mounted at /content/drive\n"
          ]
        }
      ],
      "source": [
        "from google.colab import drive\n",
        "drive.mount('/content/drive')"
      ]
    },
    {
      "cell_type": "code",
      "source": [
        "from tensorflow.keras.preprocessing.image import load_img, save_img\n",
        "import os\n",
        "from PIL import Image\n",
        "\n",
        "# Función para redimensionar imágenes\n",
        "def resize_images(input_dir, output_dir, target_size=(224, 224)):\n",
        "    os.makedirs(output_dir, exist_ok=True)\n",
        "    for category in os.listdir(input_dir):\n",
        "        category_path = os.path.join(input_dir, category)\n",
        "        output_category_path = os.path.join(output_dir, category)\n",
        "        os.makedirs(output_category_path, exist_ok=True)\n",
        "        for img_name in os.listdir(category_path):\n",
        "            img_path = os.path.join(category_path, img_name)\n",
        "            img = load_img(img_path)  # Carga la imagen\n",
        "            img_resized = img.resize(target_size, Image.Resampling.LANCZOS)  # Usar LANCZOS en lugar de ANTIALIAS\n",
        "            img_resized.save(os.path.join(output_category_path, img_name))\n",
        "    print(f\"Redimensionamiento completado en: {output_dir}\")\n",
        "\n",
        "# Rutas\n",
        "train_dir = \"/content/drive/MyDrive/Colab Notebooks/DEEP LEARNING/PUCP/Proyecto/Training\"\n",
        "test_dir = \"/content/drive/MyDrive/Colab Notebooks/DEEP LEARNING/PUCP/Proyecto/Test\"\n",
        "\n",
        "train_resized_dir = \"/content/drive/MyDrive/Colab Notebooks/DEEP LEARNING/PUCP/Proyecto/Training_Resized\"\n",
        "test_resized_dir = \"/content/drive/MyDrive/Colab Notebooks/DEEP LEARNING/PUCP/Proyecto/Test_Resized\"\n",
        "\n",
        "# Redimensionar imágenes\n",
        "resize_images(train_dir, train_resized_dir)\n",
        "resize_images(test_dir, test_resized_dir)\n"
      ],
      "metadata": {
        "id": "l-8qmBJ7yVg2"
      },
      "execution_count": null,
      "outputs": []
    },
    {
      "cell_type": "code",
      "source": [
        "from tensorflow.keras.preprocessing.image import ImageDataGenerator, load_img, img_to_array\n",
        "import os\n",
        "\n",
        "# Configuración de aumentación\n",
        "datagen = ImageDataGenerator(\n",
        "    rotation_range=30,\n",
        "    width_shift_range=0.2,\n",
        "    height_shift_range=0.2,\n",
        "    shear_range=0.2,\n",
        "    zoom_range=0.2,\n",
        "    horizontal_flip=True,\n",
        "    fill_mode='nearest'\n",
        ")\n",
        "\n",
        "# Ruta de la clase `No_Fire` redimensionada\n",
        "no_fire_dir = \"/content/drive/MyDrive/Colab Notebooks/DEEP LEARNING/PUCP/Proyecto/Training_Resized/No_Fire\"\n",
        "output_dir = \"/content/drive/MyDrive/Colab Notebooks/DEEP LEARNING/PUCP/Proyecto/Training_Augmented/No_Fire\"\n",
        "os.makedirs(output_dir, exist_ok=True)\n",
        "\n",
        "# Número de imágenes a generar\n",
        "current_no_fire = len(os.listdir(no_fire_dir))\n",
        "target_no_fire = 25027  # Mismo número que Fire\n",
        "images_to_generate = target_no_fire - current_no_fire\n",
        "\n",
        "# Generar imágenes aumentadas\n",
        "generated = 0\n",
        "for img_name in os.listdir(no_fire_dir):\n",
        "    if generated >= images_to_generate:\n",
        "        break\n",
        "    img_path = os.path.join(no_fire_dir, img_name)\n",
        "    img = load_img(img_path)  # Carga imagen\n",
        "    img_array = img_to_array(img)  # Convierte a array\n",
        "    img_array = img_array.reshape((1,) + img_array.shape)  # Redimensiona\n",
        "\n",
        "    # Genera imágenes y guárdalas\n",
        "    for batch in datagen.flow(img_array, batch_size=1,\n",
        "                              save_to_dir=output_dir,\n",
        "                              save_prefix='aug',\n",
        "                              save_format='jpeg'):\n",
        "        generated += 1\n",
        "        if generated >= images_to_generate:\n",
        "            break\n",
        "\n",
        "print(f\"Aumentación completada. Nuevas imágenes generadas: {generated}\")"
      ],
      "metadata": {
        "id": "dVbXqEqW0sU_"
      },
      "execution_count": null,
      "outputs": []
    }
  ]
}